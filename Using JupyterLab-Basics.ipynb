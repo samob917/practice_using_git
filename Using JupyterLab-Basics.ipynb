{
 "cells": [
  {
   "cell_type": "code",
   "execution_count": 1,
   "metadata": {},
   "outputs": [
    {
     "data": {
      "text/plain": [
       "[1, 2, 3, 4]"
      ]
     },
     "execution_count": 1,
     "metadata": {},
     "output_type": "execute_result"
    }
   ],
   "source": [
    "L=[1,2,3,4,5] # define a list with 1-5\n",
    "L.pop(4)      # \"pop\" removes an element\n",
    "L             # if the last element of a cell is an object\n",
    "              # executing the cell will print it, like this:\n",
    "#print(\"hello world!\")"
   ]
  },
  {
   "cell_type": "markdown",
   "metadata": {},
   "source": [
    "## Big lessons for today\n",
    "\n",
    "1. Always run code in order! From the top, to the bottom!\n",
    "    - TIP 1: Clear the output (Kernel > \"restart and clear output\") and then rerun all the code (under the \"Run\" menu)\n",
    "    - TIP 2: Look at the numbers next to code! They should start at 1, and go up in order!\n",
    "2. Before you start working on assignments, or taking class notes, update your \"local\" comptuer data, by \"fetching\" the repo!"
   ]
  },
  {
   "cell_type": "markdown",
   "metadata": {},
   "source": [
    "## Shortcuts for Jupyter Lab"
   ]
  },
  {
   "cell_type": "markdown",
   "metadata": {},
   "source": [
    "### Command Mode shortcuts\n",
    "- <kbd> shift </kbd>  + <kbd> enter </kbd>  run cell, move to/select cell below\n",
    "- <kbd> ctrl </kbd>+ <kbd> enter</kbd> run cell\n",
    "- <kbd> A</kbd> insert cell above\n",
    "- <kbd> B </kbd>insert cell below\n",
    "- <kbd> C</kbd> copy cell\n",
    "- <kbd> V</kbd> paste cell\n",
    "- <kbd> D</kbd> , <kbd> D </kbd> (hit <kbd> D </kbd>twice) delete selected cell\n",
    "- <kbd> shift </kbd>+ <kbd> M </kbd>merge selected cells, or current cell with cell below if only one cell selected\n",
    "- <kbd> I</kbd> , <kbd> I</kbd> interrupt kernel\n",
    "- <kbd> 0 </kbd>, <kbd> 0</kbd> restart kernel (with dialog)\n",
    "- <kbd> Y</kbd> change cell to code mode\n",
    "- <kbd> M</kbd> change cell to markdown mode (good for documentation)"
   ]
  },
  {
   "cell_type": "code",
   "execution_count": 2,
   "metadata": {},
   "outputs": [],
   "source": [
    "#This is just some random code"
   ]
  },
  {
   "cell_type": "markdown",
   "metadata": {},
   "source": [
    "### Edit mode shortcuts\n",
    "- <kbd>cmd</kbd> + <kbd>/ toggle </kbd>comment lines \n",
    "- <kbd>tab </kbd>code completion or indent &#11088; &#11088; \n",
    "- <kbd>shift</kbd> + <kbd>tab</kbd> tooltip (syntax help) &#11088; &#11088;\n",
    "- <kbd>ctrl</kbd> + <kbd>shift </kbd>+ <kbd>-</kbd> split cell\n",
    "- <kbd> shift </kbd>  + <kbd> enter </kbd>  run cell, move to/select cell below\n",
    "- <kbd> ctrl </kbd>+ <kbd> enter</kbd> run cell"
   ]
  },
  {
   "cell_type": "markdown",
   "metadata": {},
   "source": [
    "This is some practice\n",
    "\n",
    "7*11"
   ]
  },
  {
   "cell_type": "code",
   "execution_count": 4,
   "metadata": {},
   "outputs": [
    {
     "name": "stdout",
     "output_type": "stream",
     "text": [
      "1\n"
     ]
    }
   ],
   "source": [
    "i = 9\n",
    "x = 0\n",
    "while i < 10:\n",
    "    x += 1\n",
    "    i += 1\n",
    "    print(x)\n",
    "    \n"
   ]
  }
 ],
 "metadata": {
  "kernelspec": {
   "display_name": "Python 3",
   "language": "python",
   "name": "python3"
  },
  "language_info": {
   "codemirror_mode": {
    "name": "ipython",
    "version": 3
   },
   "file_extension": ".py",
   "mimetype": "text/x-python",
   "name": "python",
   "nbconvert_exporter": "python",
   "pygments_lexer": "ipython3",
   "version": "3.8.5"
  }
 },
 "nbformat": 4,
 "nbformat_minor": 5
}
